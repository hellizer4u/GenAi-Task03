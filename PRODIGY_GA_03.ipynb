{
  "nbformat": 4,
  "nbformat_minor": 0,
  "metadata": {
    "colab": {
      "provenance": [],
      "include_colab_link": true
    },
    "kernelspec": {
      "name": "python3",
      "display_name": "Python 3"
    },
    "language_info": {
      "name": "python"
    }
  },
  "cells": [
    {
      "cell_type": "markdown",
      "metadata": {
        "id": "view-in-github",
        "colab_type": "text"
      },
      "source": [
        "<a href=\"https://colab.research.google.com/github/hellizer4u/GenAi-Task03/blob/main/PRODIGY_GA_03.ipynb\" target=\"_parent\"><img src=\"https://colab.research.google.com/assets/colab-badge.svg\" alt=\"Open In Colab\"/></a>"
      ]
    },
    {
      "cell_type": "code",
      "execution_count": null,
      "metadata": {
        "id": "3dD_Va4H7_zU"
      },
      "outputs": [],
      "source": [
        "text = \"\"\"Once upon a time, there was a brave princess who lived in a kingdom far away.\n",
        "She loved adventures and often ventured into the forest with her sword in hand.\"\"\""
      ]
    },
    {
      "cell_type": "code",
      "source": [
        "import random\n",
        "from collections import defaultdict\n",
        "\n",
        "def build_char_markov_chain(text, n=3):\n",
        "    chain = defaultdict(list)\n",
        "\n",
        "    for i in range(len(text) - n):\n",
        "        prefix = text[i:i+n-1]\n",
        "        next_char = text[i+n-1]\n",
        "        chain[prefix].append(next_char)\n",
        "\n",
        "    return chain"
      ],
      "metadata": {
        "id": "SPc1dncu9sz8"
      },
      "execution_count": null,
      "outputs": []
    },
    {
      "cell_type": "code",
      "source": [
        "def generate_text(chain, length=300, n=3):\n",
        "    start = random.choice(list(chain.keys()))\n",
        "    output = start\n",
        "\n",
        "    for _ in range(length):\n",
        "        prefix = output[-(n-1):]\n",
        "        possible_next = chain.get(prefix, None)\n",
        "        if not possible_next:\n",
        "            break\n",
        "        next_char = random.choice(possible_next)\n",
        "        output += next_char\n",
        "\n",
        "    return output"
      ],
      "metadata": {
        "id": "BNqFRZHV91o_"
      },
      "execution_count": null,
      "outputs": []
    },
    {
      "cell_type": "code",
      "source": [
        "# Step-by-step execution\n",
        "n = 3  # 3-character prefix\n",
        "char_chain = build_char_markov_chain(text, n)\n",
        "generated = generate_text(char_chain, length=300, n=n)\n",
        "\n",
        "print(\"Generated Text:\\n\")\n",
        "print(generated)\n"
      ],
      "metadata": {
        "id": "FRkDJxPn93Ej"
      },
      "execution_count": null,
      "outputs": []
    },
    {
      "cell_type": "code",
      "source": [],
      "metadata": {
        "id": "4Z3QhqdF94po"
      },
      "execution_count": null,
      "outputs": []
    }
  ]
}